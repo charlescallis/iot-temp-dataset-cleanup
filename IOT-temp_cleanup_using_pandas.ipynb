{
 "cells": [
  {
   "cell_type": "markdown",
   "id": "b0a8e43c-c87e-4ceb-aca5-b53fdb2c7258",
   "metadata": {},
   "source": [
    "# Importing pandas into my application"
   ]
  },
  {
   "cell_type": "code",
   "execution_count": 603,
   "id": "bbe8c0f0-3779-467a-b9c2-f2cb4a7007cc",
   "metadata": {},
   "outputs": [],
   "source": [
    "import pandas as pd"
   ]
  },
  {
   "cell_type": "markdown",
   "id": "3d5d60ca-a23a-4942-b4f7-eba969d4da62",
   "metadata": {},
   "source": [
    "# Loading my CSV file into a DataFrame"
   ]
  },
  {
   "cell_type": "code",
   "execution_count": 604,
   "id": "8dc64c66-33f7-4fe4-aa9d-d693e1fe12f4",
   "metadata": {},
   "outputs": [
    {
     "data": {
      "text/html": [
       "<div>\n",
       "<style scoped>\n",
       "    .dataframe tbody tr th:only-of-type {\n",
       "        vertical-align: middle;\n",
       "    }\n",
       "\n",
       "    .dataframe tbody tr th {\n",
       "        vertical-align: top;\n",
       "    }\n",
       "\n",
       "    .dataframe thead th {\n",
       "        text-align: right;\n",
       "    }\n",
       "</style>\n",
       "<table border=\"1\" class=\"dataframe\">\n",
       "  <thead>\n",
       "    <tr style=\"text-align: right;\">\n",
       "      <th></th>\n",
       "      <th>id</th>\n",
       "      <th>room_id/id</th>\n",
       "      <th>noted_date</th>\n",
       "      <th>temp</th>\n",
       "      <th>out/in</th>\n",
       "    </tr>\n",
       "  </thead>\n",
       "  <tbody>\n",
       "    <tr>\n",
       "      <th>0</th>\n",
       "      <td>__export__.temp_log_196134_bd201015</td>\n",
       "      <td>Room Admin</td>\n",
       "      <td>8/12/2018 9:30</td>\n",
       "      <td>29</td>\n",
       "      <td>In</td>\n",
       "    </tr>\n",
       "    <tr>\n",
       "      <th>1</th>\n",
       "      <td>__export__.temp_log_196131_7bca51bc</td>\n",
       "      <td>Room Admin</td>\n",
       "      <td>8/12/2018 9:30</td>\n",
       "      <td>29</td>\n",
       "      <td>In</td>\n",
       "    </tr>\n",
       "    <tr>\n",
       "      <th>2</th>\n",
       "      <td>__export__.temp_log_196127_522915e3</td>\n",
       "      <td>Room Admin</td>\n",
       "      <td>8/12/2018 9:29</td>\n",
       "      <td>41</td>\n",
       "      <td>Out</td>\n",
       "    </tr>\n",
       "    <tr>\n",
       "      <th>3</th>\n",
       "      <td>__export__.temp_log_196128_be0919cf</td>\n",
       "      <td>Room Admin</td>\n",
       "      <td>8/12/2018 9:29</td>\n",
       "      <td>41</td>\n",
       "      <td>Out</td>\n",
       "    </tr>\n",
       "    <tr>\n",
       "      <th>4</th>\n",
       "      <td>__export__.temp_log_196126_d30b72fb</td>\n",
       "      <td>Room Admin</td>\n",
       "      <td>8/12/2018 9:29</td>\n",
       "      <td>31</td>\n",
       "      <td>In</td>\n",
       "    </tr>\n",
       "    <tr>\n",
       "      <th>5</th>\n",
       "      <td>__export__.temp_log_196125_b0fa0b41</td>\n",
       "      <td>Room Admin</td>\n",
       "      <td>8/12/2018 9:29</td>\n",
       "      <td>31</td>\n",
       "      <td>In</td>\n",
       "    </tr>\n",
       "    <tr>\n",
       "      <th>6</th>\n",
       "      <td>__export__.temp_log_196121_01544d45</td>\n",
       "      <td>Room Admin</td>\n",
       "      <td>8/12/2018 9:28</td>\n",
       "      <td>29</td>\n",
       "      <td>In</td>\n",
       "    </tr>\n",
       "    <tr>\n",
       "      <th>7</th>\n",
       "      <td>__export__.temp_log_196122_f8b80a9f</td>\n",
       "      <td>Room Admin</td>\n",
       "      <td>8/12/2018 9:28</td>\n",
       "      <td>29</td>\n",
       "      <td>In</td>\n",
       "    </tr>\n",
       "    <tr>\n",
       "      <th>8</th>\n",
       "      <td>__export__.temp_log_196111_6b7a0848</td>\n",
       "      <td>Room Admin</td>\n",
       "      <td>8/12/2018 9:26</td>\n",
       "      <td>29</td>\n",
       "      <td>In</td>\n",
       "    </tr>\n",
       "    <tr>\n",
       "      <th>9</th>\n",
       "      <td>__export__.temp_log_196112_e134aebd</td>\n",
       "      <td>Room Admin</td>\n",
       "      <td>8/12/2018 9:26</td>\n",
       "      <td>29</td>\n",
       "      <td>In</td>\n",
       "    </tr>\n",
       "  </tbody>\n",
       "</table>\n",
       "</div>"
      ],
      "text/plain": [
       "                                    id  room_id/id      noted_date  temp  \\\n",
       "0  __export__.temp_log_196134_bd201015  Room Admin  8/12/2018 9:30    29   \n",
       "1  __export__.temp_log_196131_7bca51bc  Room Admin  8/12/2018 9:30    29   \n",
       "2  __export__.temp_log_196127_522915e3  Room Admin  8/12/2018 9:29    41   \n",
       "3  __export__.temp_log_196128_be0919cf  Room Admin  8/12/2018 9:29    41   \n",
       "4  __export__.temp_log_196126_d30b72fb  Room Admin  8/12/2018 9:29    31   \n",
       "5  __export__.temp_log_196125_b0fa0b41  Room Admin  8/12/2018 9:29    31   \n",
       "6  __export__.temp_log_196121_01544d45  Room Admin  8/12/2018 9:28    29   \n",
       "7  __export__.temp_log_196122_f8b80a9f  Room Admin  8/12/2018 9:28    29   \n",
       "8  __export__.temp_log_196111_6b7a0848  Room Admin  8/12/2018 9:26    29   \n",
       "9  __export__.temp_log_196112_e134aebd  Room Admin  8/12/2018 9:26    29   \n",
       "\n",
       "  out/in  \n",
       "0     In  \n",
       "1     In  \n",
       "2    Out  \n",
       "3    Out  \n",
       "4     In  \n",
       "5     In  \n",
       "6     In  \n",
       "7     In  \n",
       "8     In  \n",
       "9     In  "
      ]
     },
     "execution_count": 604,
     "metadata": {},
     "output_type": "execute_result"
    }
   ],
   "source": [
    "df = pd.read_csv('IOT-temp.csv')\n",
    "df.head(10)"
   ]
  },
  {
   "cell_type": "code",
   "execution_count": 605,
   "id": "bfc0a19f-822c-4764-9b5b-8a5363bc0c64",
   "metadata": {},
   "outputs": [
    {
     "data": {
      "text/plain": [
       "(97606, 5)"
      ]
     },
     "execution_count": 605,
     "metadata": {},
     "output_type": "execute_result"
    }
   ],
   "source": [
    "df.shape"
   ]
  },
  {
   "cell_type": "code",
   "execution_count": 606,
   "id": "15ca8b7e-5e5e-4770-a46c-03fb4b2f8c7a",
   "metadata": {},
   "outputs": [
    {
     "name": "stdout",
     "output_type": "stream",
     "text": [
      "<class 'pandas.core.frame.DataFrame'>\n",
      "RangeIndex: 97606 entries, 0 to 97605\n",
      "Data columns (total 5 columns):\n",
      " #   Column      Non-Null Count  Dtype \n",
      "---  ------      --------------  ----- \n",
      " 0   id          97606 non-null  object\n",
      " 1   room_id/id  97606 non-null  object\n",
      " 2   noted_date  97606 non-null  object\n",
      " 3   temp        97606 non-null  int64 \n",
      " 4   out/in      97606 non-null  object\n",
      "dtypes: int64(1), object(4)\n",
      "memory usage: 3.7+ MB\n",
      "None\n"
     ]
    }
   ],
   "source": [
    "print(df.info())"
   ]
  },
  {
   "cell_type": "markdown",
   "id": "ccdcbd6b-8131-4b2d-b2f1-eaa3ecc949e4",
   "metadata": {},
   "source": [
    "# From the information displayed above we have four columns with datatype as object and only one column with datatype as integer.There are 97606 entries and 5 columns namely; id, room_id/id, noted_date, out/in."
   ]
  },
  {
   "cell_type": "markdown",
   "id": "093b9b9d-1041-466c-834f-c2488518caac",
   "metadata": {},
   "source": [
    "# Renaming the Data columns"
   ]
  },
  {
   "cell_type": "code",
   "execution_count": 607,
   "id": "75bdbe14-47a9-416b-8399-1789e6eb4a02",
   "metadata": {},
   "outputs": [],
   "source": [
    "df = df.rename(columns = {\n",
    "                            'id':'ID', 'noted_date':'DateTime', 'temp':'Temperature', 'out/in': 'Place'\n",
    "                        }\n",
    "              )"
   ]
  },
  {
   "cell_type": "code",
   "execution_count": 608,
   "id": "7e5c7dce-b71b-4855-93ea-945c6706f219",
   "metadata": {},
   "outputs": [
    {
     "data": {
      "text/html": [
       "<div>\n",
       "<style scoped>\n",
       "    .dataframe tbody tr th:only-of-type {\n",
       "        vertical-align: middle;\n",
       "    }\n",
       "\n",
       "    .dataframe tbody tr th {\n",
       "        vertical-align: top;\n",
       "    }\n",
       "\n",
       "    .dataframe thead th {\n",
       "        text-align: right;\n",
       "    }\n",
       "</style>\n",
       "<table border=\"1\" class=\"dataframe\">\n",
       "  <thead>\n",
       "    <tr style=\"text-align: right;\">\n",
       "      <th></th>\n",
       "      <th>ID</th>\n",
       "      <th>room_id/id</th>\n",
       "      <th>DateTime</th>\n",
       "      <th>Temperature</th>\n",
       "      <th>Place</th>\n",
       "    </tr>\n",
       "  </thead>\n",
       "  <tbody>\n",
       "    <tr>\n",
       "      <th>0</th>\n",
       "      <td>__export__.temp_log_196134_bd201015</td>\n",
       "      <td>Room Admin</td>\n",
       "      <td>8/12/2018 9:30</td>\n",
       "      <td>29</td>\n",
       "      <td>In</td>\n",
       "    </tr>\n",
       "    <tr>\n",
       "      <th>1</th>\n",
       "      <td>__export__.temp_log_196131_7bca51bc</td>\n",
       "      <td>Room Admin</td>\n",
       "      <td>8/12/2018 9:30</td>\n",
       "      <td>29</td>\n",
       "      <td>In</td>\n",
       "    </tr>\n",
       "    <tr>\n",
       "      <th>2</th>\n",
       "      <td>__export__.temp_log_196127_522915e3</td>\n",
       "      <td>Room Admin</td>\n",
       "      <td>8/12/2018 9:29</td>\n",
       "      <td>41</td>\n",
       "      <td>Out</td>\n",
       "    </tr>\n",
       "    <tr>\n",
       "      <th>3</th>\n",
       "      <td>__export__.temp_log_196128_be0919cf</td>\n",
       "      <td>Room Admin</td>\n",
       "      <td>8/12/2018 9:29</td>\n",
       "      <td>41</td>\n",
       "      <td>Out</td>\n",
       "    </tr>\n",
       "    <tr>\n",
       "      <th>4</th>\n",
       "      <td>__export__.temp_log_196126_d30b72fb</td>\n",
       "      <td>Room Admin</td>\n",
       "      <td>8/12/2018 9:29</td>\n",
       "      <td>31</td>\n",
       "      <td>In</td>\n",
       "    </tr>\n",
       "  </tbody>\n",
       "</table>\n",
       "</div>"
      ],
      "text/plain": [
       "                                    ID  room_id/id        DateTime  \\\n",
       "0  __export__.temp_log_196134_bd201015  Room Admin  8/12/2018 9:30   \n",
       "1  __export__.temp_log_196131_7bca51bc  Room Admin  8/12/2018 9:30   \n",
       "2  __export__.temp_log_196127_522915e3  Room Admin  8/12/2018 9:29   \n",
       "3  __export__.temp_log_196128_be0919cf  Room Admin  8/12/2018 9:29   \n",
       "4  __export__.temp_log_196126_d30b72fb  Room Admin  8/12/2018 9:29   \n",
       "\n",
       "   Temperature Place  \n",
       "0           29    In  \n",
       "1           29    In  \n",
       "2           41   Out  \n",
       "3           41   Out  \n",
       "4           31    In  "
      ]
     },
     "execution_count": 608,
     "metadata": {},
     "output_type": "execute_result"
    }
   ],
   "source": [
    "df.head()"
   ]
  },
  {
   "cell_type": "markdown",
   "id": "634999db-eda8-4f0d-849b-52dfc610d0b2",
   "metadata": {},
   "source": [
    "# Performing summary of the unique value count on each column"
   ]
  },
  {
   "cell_type": "code",
   "execution_count": 609,
   "id": "335826d4-be93-4eb5-8ca1-ab10c851dd03",
   "metadata": {},
   "outputs": [],
   "source": [
    "def get_df_summary(df):\n",
    "    \n",
    "    '''This function is used to summarise, especially unique value count and data type for variable'''\n",
    "    \n",
    "    unq_val_cnt_df = pd.DataFrame(df.nunique(), columns = ['unq_val_cnt'])\n",
    "    unq_val_cnt_df.reset_index(inplace = True)\n",
    "    unq_val_cnt_df.rename(columns = {'index':'variable'}, inplace = True)\n",
    "    unq_val_cnt_df = unq_val_cnt_df.merge(df.dtypes.reset_index().rename(columns = {'index':'variable', 0:'dtype'}),\n",
    "                                          on = 'variable')\n",
    "    unq_val_cnt_df = unq_val_cnt_df.sort_values(by = 'unq_val_cnt', ascending = False)\n",
    "    \n",
    "    return unq_val_cnt_df"
   ]
  },
  {
   "cell_type": "code",
   "execution_count": 610,
   "id": "c93c6a00-fb69-4649-977f-a08d2a1fa532",
   "metadata": {},
   "outputs": [],
   "source": [
    "unq_val_cnt_df = get_df_summary(df)"
   ]
  },
  {
   "cell_type": "code",
   "execution_count": 611,
   "id": "0222e3c9-e68b-4270-96ca-282426abd7fd",
   "metadata": {},
   "outputs": [
    {
     "data": {
      "text/html": [
       "<div>\n",
       "<style scoped>\n",
       "    .dataframe tbody tr th:only-of-type {\n",
       "        vertical-align: middle;\n",
       "    }\n",
       "\n",
       "    .dataframe tbody tr th {\n",
       "        vertical-align: top;\n",
       "    }\n",
       "\n",
       "    .dataframe thead th {\n",
       "        text-align: right;\n",
       "    }\n",
       "</style>\n",
       "<table border=\"1\" class=\"dataframe\">\n",
       "  <thead>\n",
       "    <tr style=\"text-align: right;\">\n",
       "      <th></th>\n",
       "      <th>variable</th>\n",
       "      <th>unq_val_cnt</th>\n",
       "      <th>dtype</th>\n",
       "    </tr>\n",
       "  </thead>\n",
       "  <tbody>\n",
       "    <tr>\n",
       "      <th>0</th>\n",
       "      <td>ID</td>\n",
       "      <td>97605</td>\n",
       "      <td>object</td>\n",
       "    </tr>\n",
       "    <tr>\n",
       "      <th>2</th>\n",
       "      <td>DateTime</td>\n",
       "      <td>27920</td>\n",
       "      <td>object</td>\n",
       "    </tr>\n",
       "    <tr>\n",
       "      <th>3</th>\n",
       "      <td>Temperature</td>\n",
       "      <td>31</td>\n",
       "      <td>int64</td>\n",
       "    </tr>\n",
       "    <tr>\n",
       "      <th>4</th>\n",
       "      <td>Place</td>\n",
       "      <td>2</td>\n",
       "      <td>object</td>\n",
       "    </tr>\n",
       "    <tr>\n",
       "      <th>1</th>\n",
       "      <td>room_id/id</td>\n",
       "      <td>1</td>\n",
       "      <td>object</td>\n",
       "    </tr>\n",
       "  </tbody>\n",
       "</table>\n",
       "</div>"
      ],
      "text/plain": [
       "      variable  unq_val_cnt   dtype\n",
       "0           ID        97605  object\n",
       "2     DateTime        27920  object\n",
       "3  Temperature           31   int64\n",
       "4        Place            2  object\n",
       "1   room_id/id            1  object"
      ]
     },
     "execution_count": 611,
     "metadata": {},
     "output_type": "execute_result"
    }
   ],
   "source": [
    "unq_val_cnt_df"
   ]
  },
  {
   "cell_type": "markdown",
   "id": "d552a9d0-8f42-47ea-a222-f43c1bbdbebc",
   "metadata": {},
   "source": [
    "# Dropping the \"room_id/id\" column since it has one value that won't be useful for analysis"
   ]
  },
  {
   "cell_type": "code",
   "execution_count": 612,
   "id": "9371017e-411d-4460-8152-bcc15a4b371d",
   "metadata": {},
   "outputs": [],
   "source": [
    "df.drop(columns=[\"room_id/id\"], inplace=True)"
   ]
  },
  {
   "cell_type": "code",
   "execution_count": 613,
   "id": "188c0512-e6bb-4e09-b11a-21f0c02a2548",
   "metadata": {},
   "outputs": [
    {
     "data": {
      "text/html": [
       "<div>\n",
       "<style scoped>\n",
       "    .dataframe tbody tr th:only-of-type {\n",
       "        vertical-align: middle;\n",
       "    }\n",
       "\n",
       "    .dataframe tbody tr th {\n",
       "        vertical-align: top;\n",
       "    }\n",
       "\n",
       "    .dataframe thead th {\n",
       "        text-align: right;\n",
       "    }\n",
       "</style>\n",
       "<table border=\"1\" class=\"dataframe\">\n",
       "  <thead>\n",
       "    <tr style=\"text-align: right;\">\n",
       "      <th></th>\n",
       "      <th>ID</th>\n",
       "      <th>DateTime</th>\n",
       "      <th>Temperature</th>\n",
       "      <th>Place</th>\n",
       "    </tr>\n",
       "  </thead>\n",
       "  <tbody>\n",
       "    <tr>\n",
       "      <th>0</th>\n",
       "      <td>__export__.temp_log_196134_bd201015</td>\n",
       "      <td>8/12/2018 9:30</td>\n",
       "      <td>29</td>\n",
       "      <td>In</td>\n",
       "    </tr>\n",
       "    <tr>\n",
       "      <th>1</th>\n",
       "      <td>__export__.temp_log_196131_7bca51bc</td>\n",
       "      <td>8/12/2018 9:30</td>\n",
       "      <td>29</td>\n",
       "      <td>In</td>\n",
       "    </tr>\n",
       "    <tr>\n",
       "      <th>2</th>\n",
       "      <td>__export__.temp_log_196127_522915e3</td>\n",
       "      <td>8/12/2018 9:29</td>\n",
       "      <td>41</td>\n",
       "      <td>Out</td>\n",
       "    </tr>\n",
       "    <tr>\n",
       "      <th>3</th>\n",
       "      <td>__export__.temp_log_196128_be0919cf</td>\n",
       "      <td>8/12/2018 9:29</td>\n",
       "      <td>41</td>\n",
       "      <td>Out</td>\n",
       "    </tr>\n",
       "    <tr>\n",
       "      <th>4</th>\n",
       "      <td>__export__.temp_log_196126_d30b72fb</td>\n",
       "      <td>8/12/2018 9:29</td>\n",
       "      <td>31</td>\n",
       "      <td>In</td>\n",
       "    </tr>\n",
       "  </tbody>\n",
       "</table>\n",
       "</div>"
      ],
      "text/plain": [
       "                                    ID        DateTime  Temperature Place\n",
       "0  __export__.temp_log_196134_bd201015  8/12/2018 9:30           29    In\n",
       "1  __export__.temp_log_196131_7bca51bc  8/12/2018 9:30           29    In\n",
       "2  __export__.temp_log_196127_522915e3  8/12/2018 9:29           41   Out\n",
       "3  __export__.temp_log_196128_be0919cf  8/12/2018 9:29           41   Out\n",
       "4  __export__.temp_log_196126_d30b72fb  8/12/2018 9:29           31    In"
      ]
     },
     "execution_count": 613,
     "metadata": {},
     "output_type": "execute_result"
    }
   ],
   "source": [
    "df.head()"
   ]
  },
  {
   "cell_type": "markdown",
   "id": "2e86c9af-6c03-4736-ab6f-49dc9a2b00ff",
   "metadata": {},
   "source": [
    "# Observation: DateTime column has a mixture of '-' and '/' string as shown below. Relacing '-' to '/' in the DateTime Column"
   ]
  },
  {
   "cell_type": "code",
   "execution_count": 614,
   "id": "f0c93658-218b-445e-86f0-6865c3a530a0",
   "metadata": {},
   "outputs": [
    {
     "data": {
      "text/html": [
       "<div>\n",
       "<style scoped>\n",
       "    .dataframe tbody tr th:only-of-type {\n",
       "        vertical-align: middle;\n",
       "    }\n",
       "\n",
       "    .dataframe tbody tr th {\n",
       "        vertical-align: top;\n",
       "    }\n",
       "\n",
       "    .dataframe thead th {\n",
       "        text-align: right;\n",
       "    }\n",
       "</style>\n",
       "<table border=\"1\" class=\"dataframe\">\n",
       "  <thead>\n",
       "    <tr style=\"text-align: right;\">\n",
       "      <th></th>\n",
       "      <th>ID</th>\n",
       "      <th>DateTime</th>\n",
       "      <th>Temperature</th>\n",
       "      <th>Place</th>\n",
       "    </tr>\n",
       "  </thead>\n",
       "  <tbody>\n",
       "    <tr>\n",
       "      <th>7609</th>\n",
       "      <td>__export__.temp_log_171463_f7832fdd</td>\n",
       "      <td>1/12/2018 0:04</td>\n",
       "      <td>37</td>\n",
       "      <td>Out</td>\n",
       "    </tr>\n",
       "    <tr>\n",
       "      <th>7610</th>\n",
       "      <td>__export__.temp_log_171457_5f37933a</td>\n",
       "      <td>1/12/2018 0:00</td>\n",
       "      <td>37</td>\n",
       "      <td>Out</td>\n",
       "    </tr>\n",
       "    <tr>\n",
       "      <th>7611</th>\n",
       "      <td>__export__.temp_log_171456_a6e6de9d</td>\n",
       "      <td>1/12/2018 0:00</td>\n",
       "      <td>37</td>\n",
       "      <td>Out</td>\n",
       "    </tr>\n",
       "    <tr>\n",
       "      <th>7612</th>\n",
       "      <td>__export__.temp_log_171452_ace9cea4</td>\n",
       "      <td>30-11-2018 23:58</td>\n",
       "      <td>37</td>\n",
       "      <td>Out</td>\n",
       "    </tr>\n",
       "    <tr>\n",
       "      <th>7613</th>\n",
       "      <td>__export__.temp_log_171453_55664bc9</td>\n",
       "      <td>30-11-2018 23:58</td>\n",
       "      <td>37</td>\n",
       "      <td>Out</td>\n",
       "    </tr>\n",
       "  </tbody>\n",
       "</table>\n",
       "</div>"
      ],
      "text/plain": [
       "                                       ID          DateTime  Temperature Place\n",
       "7609  __export__.temp_log_171463_f7832fdd    1/12/2018 0:04           37   Out\n",
       "7610  __export__.temp_log_171457_5f37933a    1/12/2018 0:00           37   Out\n",
       "7611  __export__.temp_log_171456_a6e6de9d    1/12/2018 0:00           37   Out\n",
       "7612  __export__.temp_log_171452_ace9cea4  30-11-2018 23:58           37   Out\n",
       "7613  __export__.temp_log_171453_55664bc9  30-11-2018 23:58           37   Out"
      ]
     },
     "execution_count": 614,
     "metadata": {},
     "output_type": "execute_result"
    }
   ],
   "source": [
    "df.iloc[7609:7614]"
   ]
  },
  {
   "cell_type": "markdown",
   "id": "7d9a07ef-4751-44a2-b741-f6000b696b78",
   "metadata": {},
   "source": [
    "# Based on above observation, replacing '-' to '/' in the DateTime Column"
   ]
  },
  {
   "cell_type": "code",
   "execution_count": 615,
   "id": "62b2b3c4-906d-4fe6-94d7-f15c9d54b4de",
   "metadata": {},
   "outputs": [],
   "source": [
    "df['DateTime'] = df['DateTime'].str.replace('-', '/')"
   ]
  },
  {
   "cell_type": "markdown",
   "id": "b7d3ba4a-f3fb-4442-971d-187b26498edd",
   "metadata": {},
   "source": [
    "# Performing slicing between #7609 - #7613 to confirm successful replacement "
   ]
  },
  {
   "cell_type": "code",
   "execution_count": 616,
   "id": "348e0da3-8147-4204-8199-c2b96320db96",
   "metadata": {},
   "outputs": [
    {
     "data": {
      "text/html": [
       "<div>\n",
       "<style scoped>\n",
       "    .dataframe tbody tr th:only-of-type {\n",
       "        vertical-align: middle;\n",
       "    }\n",
       "\n",
       "    .dataframe tbody tr th {\n",
       "        vertical-align: top;\n",
       "    }\n",
       "\n",
       "    .dataframe thead th {\n",
       "        text-align: right;\n",
       "    }\n",
       "</style>\n",
       "<table border=\"1\" class=\"dataframe\">\n",
       "  <thead>\n",
       "    <tr style=\"text-align: right;\">\n",
       "      <th></th>\n",
       "      <th>ID</th>\n",
       "      <th>DateTime</th>\n",
       "      <th>Temperature</th>\n",
       "      <th>Place</th>\n",
       "    </tr>\n",
       "  </thead>\n",
       "  <tbody>\n",
       "    <tr>\n",
       "      <th>7609</th>\n",
       "      <td>__export__.temp_log_171463_f7832fdd</td>\n",
       "      <td>1/12/2018 0:04</td>\n",
       "      <td>37</td>\n",
       "      <td>Out</td>\n",
       "    </tr>\n",
       "    <tr>\n",
       "      <th>7610</th>\n",
       "      <td>__export__.temp_log_171457_5f37933a</td>\n",
       "      <td>1/12/2018 0:00</td>\n",
       "      <td>37</td>\n",
       "      <td>Out</td>\n",
       "    </tr>\n",
       "    <tr>\n",
       "      <th>7611</th>\n",
       "      <td>__export__.temp_log_171456_a6e6de9d</td>\n",
       "      <td>1/12/2018 0:00</td>\n",
       "      <td>37</td>\n",
       "      <td>Out</td>\n",
       "    </tr>\n",
       "    <tr>\n",
       "      <th>7612</th>\n",
       "      <td>__export__.temp_log_171452_ace9cea4</td>\n",
       "      <td>30/11/2018 23:58</td>\n",
       "      <td>37</td>\n",
       "      <td>Out</td>\n",
       "    </tr>\n",
       "  </tbody>\n",
       "</table>\n",
       "</div>"
      ],
      "text/plain": [
       "                                       ID          DateTime  Temperature Place\n",
       "7609  __export__.temp_log_171463_f7832fdd    1/12/2018 0:04           37   Out\n",
       "7610  __export__.temp_log_171457_5f37933a    1/12/2018 0:00           37   Out\n",
       "7611  __export__.temp_log_171456_a6e6de9d    1/12/2018 0:00           37   Out\n",
       "7612  __export__.temp_log_171452_ace9cea4  30/11/2018 23:58           37   Out"
      ]
     },
     "execution_count": 616,
     "metadata": {},
     "output_type": "execute_result"
    }
   ],
   "source": [
    "df.iloc[7609:7613]"
   ]
  },
  {
   "cell_type": "markdown",
   "id": "0fac6989-4afc-4492-adff-570ffc96f5eb",
   "metadata": {},
   "source": [
    "# Checking for Duplicates in the dataset. Returns True for every row that is a duplicate, otherwise False"
   ]
  },
  {
   "cell_type": "code",
   "execution_count": 617,
   "id": "4d90aeb8-c7f9-4dd2-888d-a2548364a7f3",
   "metadata": {},
   "outputs": [
    {
     "name": "stdout",
     "output_type": "stream",
     "text": [
      "0        False\n",
      "1        False\n",
      "2        False\n",
      "3        False\n",
      "4        False\n",
      "         ...  \n",
      "97601    False\n",
      "97602    False\n",
      "97603    False\n",
      "97604    False\n",
      "97605    False\n",
      "Length: 97606, dtype: bool\n"
     ]
    }
   ],
   "source": [
    "print(df.duplicated())"
   ]
  },
  {
   "cell_type": "code",
   "execution_count": 618,
   "id": "9df7f01e-01f5-4437-a332-90056daee99a",
   "metadata": {},
   "outputs": [
    {
     "name": "stdout",
     "output_type": "stream",
     "text": [
      "No. of duplicate records in the data set: 1\n"
     ]
    }
   ],
   "source": [
    "print('No. of duplicate records in the data set: {}'.format(df.duplicated().sum()))"
   ]
  },
  {
   "cell_type": "code",
   "execution_count": 619,
   "id": "037534fb-8549-4211-9145-5ce4da4f7f7c",
   "metadata": {},
   "outputs": [
    {
     "data": {
      "text/html": [
       "<div>\n",
       "<style scoped>\n",
       "    .dataframe tbody tr th:only-of-type {\n",
       "        vertical-align: middle;\n",
       "    }\n",
       "\n",
       "    .dataframe tbody tr th {\n",
       "        vertical-align: top;\n",
       "    }\n",
       "\n",
       "    .dataframe thead th {\n",
       "        text-align: right;\n",
       "    }\n",
       "</style>\n",
       "<table border=\"1\" class=\"dataframe\">\n",
       "  <thead>\n",
       "    <tr style=\"text-align: right;\">\n",
       "      <th></th>\n",
       "      <th>ID</th>\n",
       "      <th>DateTime</th>\n",
       "      <th>Temperature</th>\n",
       "      <th>Place</th>\n",
       "    </tr>\n",
       "  </thead>\n",
       "  <tbody>\n",
       "    <tr>\n",
       "      <th>11</th>\n",
       "      <td>__export__.temp_log_196108_4a983c7e</td>\n",
       "      <td>8/12/2018 9:25</td>\n",
       "      <td>42</td>\n",
       "      <td>Out</td>\n",
       "    </tr>\n",
       "  </tbody>\n",
       "</table>\n",
       "</div>"
      ],
      "text/plain": [
       "                                     ID        DateTime  Temperature Place\n",
       "11  __export__.temp_log_196108_4a983c7e  8/12/2018 9:25           42   Out"
      ]
     },
     "execution_count": 619,
     "metadata": {},
     "output_type": "execute_result"
    }
   ],
   "source": [
    "df[df.duplicated()]"
   ]
  },
  {
   "cell_type": "markdown",
   "id": "7f085140-fa3e-40c1-98d0-860547bfd91d",
   "metadata": {},
   "source": [
    "# Using the returned duplicate records to compare other records in ID column to return similar duplicate record"
   ]
  },
  {
   "cell_type": "code",
   "execution_count": 620,
   "id": "f4f2f341-d9fe-47e4-9b39-f8b7754cae6f",
   "metadata": {},
   "outputs": [
    {
     "data": {
      "text/html": [
       "<div>\n",
       "<style scoped>\n",
       "    .dataframe tbody tr th:only-of-type {\n",
       "        vertical-align: middle;\n",
       "    }\n",
       "\n",
       "    .dataframe tbody tr th {\n",
       "        vertical-align: top;\n",
       "    }\n",
       "\n",
       "    .dataframe thead th {\n",
       "        text-align: right;\n",
       "    }\n",
       "</style>\n",
       "<table border=\"1\" class=\"dataframe\">\n",
       "  <thead>\n",
       "    <tr style=\"text-align: right;\">\n",
       "      <th></th>\n",
       "      <th>ID</th>\n",
       "      <th>DateTime</th>\n",
       "      <th>Temperature</th>\n",
       "      <th>Place</th>\n",
       "    </tr>\n",
       "  </thead>\n",
       "  <tbody>\n",
       "    <tr>\n",
       "      <th>10</th>\n",
       "      <td>__export__.temp_log_196108_4a983c7e</td>\n",
       "      <td>8/12/2018 9:25</td>\n",
       "      <td>42</td>\n",
       "      <td>Out</td>\n",
       "    </tr>\n",
       "    <tr>\n",
       "      <th>11</th>\n",
       "      <td>__export__.temp_log_196108_4a983c7e</td>\n",
       "      <td>8/12/2018 9:25</td>\n",
       "      <td>42</td>\n",
       "      <td>Out</td>\n",
       "    </tr>\n",
       "  </tbody>\n",
       "</table>\n",
       "</div>"
      ],
      "text/plain": [
       "                                     ID        DateTime  Temperature Place\n",
       "10  __export__.temp_log_196108_4a983c7e  8/12/2018 9:25           42   Out\n",
       "11  __export__.temp_log_196108_4a983c7e  8/12/2018 9:25           42   Out"
      ]
     },
     "execution_count": 620,
     "metadata": {},
     "output_type": "execute_result"
    }
   ],
   "source": [
    "df.loc[df['ID'] == '__export__.temp_log_196108_4a983c7e']"
   ]
  },
  {
   "cell_type": "markdown",
   "id": "5335d686-e7be-4cf2-b042-3955023a7d67",
   "metadata": {},
   "source": [
    "# Dropping duplicate records returned above"
   ]
  },
  {
   "cell_type": "code",
   "execution_count": 621,
   "id": "4d425a34-52fa-4ce6-b6b9-0ea40454fe63",
   "metadata": {},
   "outputs": [],
   "source": [
    "df = df.drop_duplicates()"
   ]
  },
  {
   "cell_type": "markdown",
   "id": "7adae2fa-89dd-4e05-b4af-184083b1203a",
   "metadata": {},
   "source": [
    "# Converting DateTime column into date-time"
   ]
  },
  {
   "cell_type": "code",
   "execution_count": 622,
   "id": "aed4e345-3a99-4d52-bc4e-648de24dd2b0",
   "metadata": {},
   "outputs": [],
   "source": [
    "df[\"DateTime\"] = pd.to_datetime(df[\"DateTime\"], format='%d/%m/%Y %H:%M')"
   ]
  },
  {
   "cell_type": "markdown",
   "id": "6c3d91ee-da9a-4f1d-bc9f-3c44ee6fa1c8",
   "metadata": {},
   "source": [
    "# Performing groupby on the dateframe using the DateTime column and sorting in ascending order to uncover duplicate records based on DateTime Values"
   ]
  },
  {
   "cell_type": "code",
   "execution_count": 623,
   "id": "0dc65638-578f-4c98-bcb2-3afbc830975f",
   "metadata": {},
   "outputs": [
    {
     "data": {
      "text/plain": [
       "DateTime\n",
       "2018-09-12 03:09:00    65\n",
       "2018-09-09 16:24:00    62\n",
       "2018-09-09 17:31:00    53\n",
       "2018-09-09 16:08:00    50\n",
       "2018-09-11 19:42:00    50\n",
       "Name: DateTime, dtype: int64"
      ]
     },
     "execution_count": 623,
     "metadata": {},
     "output_type": "execute_result"
    }
   ],
   "source": [
    "df.groupby(['DateTime'])['DateTime'].count().sort_values(ascending = False).head()"
   ]
  },
  {
   "cell_type": "markdown",
   "id": "e96202c9-c429-448b-82cf-d6b843cf7c74",
   "metadata": {},
   "source": [
    "# using a record of the DateTime column to compare the entire DateTime column, and sort the output with the ID column to uncover patterns."
   ]
  },
  {
   "cell_type": "code",
   "execution_count": 624,
   "id": "397a67e6-9b3a-47ce-a41d-b28a16cda6fd",
   "metadata": {},
   "outputs": [
    {
     "data": {
      "text/html": [
       "<div>\n",
       "<style scoped>\n",
       "    .dataframe tbody tr th:only-of-type {\n",
       "        vertical-align: middle;\n",
       "    }\n",
       "\n",
       "    .dataframe tbody tr th {\n",
       "        vertical-align: top;\n",
       "    }\n",
       "\n",
       "    .dataframe thead th {\n",
       "        text-align: right;\n",
       "    }\n",
       "</style>\n",
       "<table border=\"1\" class=\"dataframe\">\n",
       "  <thead>\n",
       "    <tr style=\"text-align: right;\">\n",
       "      <th></th>\n",
       "      <th>ID</th>\n",
       "      <th>DateTime</th>\n",
       "      <th>Temperature</th>\n",
       "      <th>Place</th>\n",
       "    </tr>\n",
       "  </thead>\n",
       "  <tbody>\n",
       "    <tr>\n",
       "      <th>61229</th>\n",
       "      <td>__export__.temp_log_101144_ff2f0b97</td>\n",
       "      <td>2018-09-12 03:09:00</td>\n",
       "      <td>29</td>\n",
       "      <td>Out</td>\n",
       "    </tr>\n",
       "    <tr>\n",
       "      <th>61258</th>\n",
       "      <td>__export__.temp_log_101502_172517d2</td>\n",
       "      <td>2018-09-12 03:09:00</td>\n",
       "      <td>29</td>\n",
       "      <td>In</td>\n",
       "    </tr>\n",
       "    <tr>\n",
       "      <th>61255</th>\n",
       "      <td>__export__.temp_log_104868_a5e526b3</td>\n",
       "      <td>2018-09-12 03:09:00</td>\n",
       "      <td>28</td>\n",
       "      <td>In</td>\n",
       "    </tr>\n",
       "    <tr>\n",
       "      <th>61231</th>\n",
       "      <td>__export__.temp_log_108845_062b2592</td>\n",
       "      <td>2018-09-12 03:09:00</td>\n",
       "      <td>28</td>\n",
       "      <td>In</td>\n",
       "    </tr>\n",
       "    <tr>\n",
       "      <th>61272</th>\n",
       "      <td>__export__.temp_log_112303_fca608f4</td>\n",
       "      <td>2018-09-12 03:09:00</td>\n",
       "      <td>29</td>\n",
       "      <td>In</td>\n",
       "    </tr>\n",
       "    <tr>\n",
       "      <th>61274</th>\n",
       "      <td>__export__.temp_log_112304_3fc1d307</td>\n",
       "      <td>2018-09-12 03:09:00</td>\n",
       "      <td>29</td>\n",
       "      <td>Out</td>\n",
       "    </tr>\n",
       "    <tr>\n",
       "      <th>61265</th>\n",
       "      <td>__export__.temp_log_113479_964d64b0</td>\n",
       "      <td>2018-09-12 03:09:00</td>\n",
       "      <td>29</td>\n",
       "      <td>In</td>\n",
       "    </tr>\n",
       "    <tr>\n",
       "      <th>61270</th>\n",
       "      <td>__export__.temp_log_115449_e70330bd</td>\n",
       "      <td>2018-09-12 03:09:00</td>\n",
       "      <td>28</td>\n",
       "      <td>Out</td>\n",
       "    </tr>\n",
       "    <tr>\n",
       "      <th>61213</th>\n",
       "      <td>__export__.temp_log_116767_4dc92bc9</td>\n",
       "      <td>2018-09-12 03:09:00</td>\n",
       "      <td>28</td>\n",
       "      <td>Out</td>\n",
       "    </tr>\n",
       "    <tr>\n",
       "      <th>61268</th>\n",
       "      <td>__export__.temp_log_119813_6bb044a0</td>\n",
       "      <td>2018-09-12 03:09:00</td>\n",
       "      <td>28</td>\n",
       "      <td>In</td>\n",
       "    </tr>\n",
       "  </tbody>\n",
       "</table>\n",
       "</div>"
      ],
      "text/plain": [
       "                                        ID            DateTime  Temperature  \\\n",
       "61229  __export__.temp_log_101144_ff2f0b97 2018-09-12 03:09:00           29   \n",
       "61258  __export__.temp_log_101502_172517d2 2018-09-12 03:09:00           29   \n",
       "61255  __export__.temp_log_104868_a5e526b3 2018-09-12 03:09:00           28   \n",
       "61231  __export__.temp_log_108845_062b2592 2018-09-12 03:09:00           28   \n",
       "61272  __export__.temp_log_112303_fca608f4 2018-09-12 03:09:00           29   \n",
       "61274  __export__.temp_log_112304_3fc1d307 2018-09-12 03:09:00           29   \n",
       "61265  __export__.temp_log_113479_964d64b0 2018-09-12 03:09:00           29   \n",
       "61270  __export__.temp_log_115449_e70330bd 2018-09-12 03:09:00           28   \n",
       "61213  __export__.temp_log_116767_4dc92bc9 2018-09-12 03:09:00           28   \n",
       "61268  __export__.temp_log_119813_6bb044a0 2018-09-12 03:09:00           28   \n",
       "\n",
       "      Place  \n",
       "61229   Out  \n",
       "61258    In  \n",
       "61255    In  \n",
       "61231    In  \n",
       "61272    In  \n",
       "61274   Out  \n",
       "61265    In  \n",
       "61270   Out  \n",
       "61213   Out  \n",
       "61268    In  "
      ]
     },
     "execution_count": 624,
     "metadata": {},
     "output_type": "execute_result"
    }
   ],
   "source": [
    "df.loc[df['DateTime'] == pd.to_datetime('12/9/2018 3:09', format = '%d/%m/%Y %H:%M')].sort_values(by = 'ID').head(10)"
   ]
  },
  {
   "cell_type": "markdown",
   "id": "4c721523-03c7-478a-b618-036c0816abee",
   "metadata": {},
   "source": [
    "# from the above result output, taking a closer look at the values of the ID column, You will notice that it has a combination of numeric and alpha-numeric values that if properly analyzed can be used as primary key for our table."
   ]
  },
  {
   "cell_type": "markdown",
   "id": "4420e29b-41fe-4990-9d4c-49b0c6bb41cb",
   "metadata": {},
   "source": [
    "# As seen in the above output, the numeric part of the ID column is on the 6th Index. I have to do further analysis to check if the 6th index will return the numeric part for all records in the ID column. If yes, the numeric part will be the suitable primary key for our table."
   ]
  },
  {
   "cell_type": "code",
   "execution_count": 625,
   "id": "2973690a-8270-4fac-a3e1-6f09f60f0c9c",
   "metadata": {},
   "outputs": [
    {
     "data": {
      "text/plain": [
       "True"
      ]
     },
     "execution_count": 625,
     "metadata": {},
     "output_type": "execute_result"
    }
   ],
   "source": [
    "df['ID'].apply(lambda x : x.split('_')[6]).nunique() == df.shape[0]"
   ]
  },
  {
   "cell_type": "code",
   "execution_count": 626,
   "id": "b32919a8-f45e-4914-b68c-8f7404682d2c",
   "metadata": {},
   "outputs": [],
   "source": [
    "def check_seventh_element(value):\n",
    "    elements = value.split('_')\n",
    "    if len(elements) >= 7:\n",
    "        return parts[6]  # Return the 7th part\n",
    "    else:\n",
    "        return None  # Return None if the 7th part does not exist"
   ]
  },
  {
   "cell_type": "markdown",
   "id": "6dcdbf8d-4e88-4996-b5f1-02e0f8d79945",
   "metadata": {},
   "source": [
    "# Applying the above function to the 'ID' column and creating a new column"
   ]
  },
  {
   "cell_type": "code",
   "execution_count": 627,
   "id": "6438fc2e-8546-43d6-b785-de1a7bbc4f1b",
   "metadata": {},
   "outputs": [],
   "source": [
    "df['ID_PK'] = df['ID'].apply(check_seventh_part)"
   ]
  },
  {
   "cell_type": "markdown",
   "id": "23533f7b-8810-4f3b-8bcb-738b6046994f",
   "metadata": {},
   "source": [
    "# Performing sorting on the dataset using the ID_PK"
   ]
  },
  {
   "cell_type": "code",
   "execution_count": 628,
   "id": "734b178a-e707-4d20-a1ab-68a84ad80dce",
   "metadata": {},
   "outputs": [
    {
     "data": {
      "text/html": [
       "<div>\n",
       "<style scoped>\n",
       "    .dataframe tbody tr th:only-of-type {\n",
       "        vertical-align: middle;\n",
       "    }\n",
       "\n",
       "    .dataframe tbody tr th {\n",
       "        vertical-align: top;\n",
       "    }\n",
       "\n",
       "    .dataframe thead th {\n",
       "        text-align: right;\n",
       "    }\n",
       "</style>\n",
       "<table border=\"1\" class=\"dataframe\">\n",
       "  <thead>\n",
       "    <tr style=\"text-align: right;\">\n",
       "      <th></th>\n",
       "      <th>ID</th>\n",
       "      <th>DateTime</th>\n",
       "      <th>Temperature</th>\n",
       "      <th>Place</th>\n",
       "      <th>ID_PK</th>\n",
       "    </tr>\n",
       "  </thead>\n",
       "  <tbody>\n",
       "    <tr>\n",
       "      <th>61229</th>\n",
       "      <td>__export__.temp_log_101144_ff2f0b97</td>\n",
       "      <td>2018-09-12 03:09:00</td>\n",
       "      <td>29</td>\n",
       "      <td>Out</td>\n",
       "      <td>101144</td>\n",
       "    </tr>\n",
       "    <tr>\n",
       "      <th>61258</th>\n",
       "      <td>__export__.temp_log_101502_172517d2</td>\n",
       "      <td>2018-09-12 03:09:00</td>\n",
       "      <td>29</td>\n",
       "      <td>In</td>\n",
       "      <td>101502</td>\n",
       "    </tr>\n",
       "    <tr>\n",
       "      <th>61255</th>\n",
       "      <td>__export__.temp_log_104868_a5e526b3</td>\n",
       "      <td>2018-09-12 03:09:00</td>\n",
       "      <td>28</td>\n",
       "      <td>In</td>\n",
       "      <td>104868</td>\n",
       "    </tr>\n",
       "    <tr>\n",
       "      <th>61231</th>\n",
       "      <td>__export__.temp_log_108845_062b2592</td>\n",
       "      <td>2018-09-12 03:09:00</td>\n",
       "      <td>28</td>\n",
       "      <td>In</td>\n",
       "      <td>108845</td>\n",
       "    </tr>\n",
       "    <tr>\n",
       "      <th>61272</th>\n",
       "      <td>__export__.temp_log_112303_fca608f4</td>\n",
       "      <td>2018-09-12 03:09:00</td>\n",
       "      <td>29</td>\n",
       "      <td>In</td>\n",
       "      <td>112303</td>\n",
       "    </tr>\n",
       "    <tr>\n",
       "      <th>61274</th>\n",
       "      <td>__export__.temp_log_112304_3fc1d307</td>\n",
       "      <td>2018-09-12 03:09:00</td>\n",
       "      <td>29</td>\n",
       "      <td>Out</td>\n",
       "      <td>112304</td>\n",
       "    </tr>\n",
       "    <tr>\n",
       "      <th>61265</th>\n",
       "      <td>__export__.temp_log_113479_964d64b0</td>\n",
       "      <td>2018-09-12 03:09:00</td>\n",
       "      <td>29</td>\n",
       "      <td>In</td>\n",
       "      <td>113479</td>\n",
       "    </tr>\n",
       "    <tr>\n",
       "      <th>61270</th>\n",
       "      <td>__export__.temp_log_115449_e70330bd</td>\n",
       "      <td>2018-09-12 03:09:00</td>\n",
       "      <td>28</td>\n",
       "      <td>Out</td>\n",
       "      <td>115449</td>\n",
       "    </tr>\n",
       "    <tr>\n",
       "      <th>61213</th>\n",
       "      <td>__export__.temp_log_116767_4dc92bc9</td>\n",
       "      <td>2018-09-12 03:09:00</td>\n",
       "      <td>28</td>\n",
       "      <td>Out</td>\n",
       "      <td>116767</td>\n",
       "    </tr>\n",
       "    <tr>\n",
       "      <th>61268</th>\n",
       "      <td>__export__.temp_log_119813_6bb044a0</td>\n",
       "      <td>2018-09-12 03:09:00</td>\n",
       "      <td>28</td>\n",
       "      <td>In</td>\n",
       "      <td>119813</td>\n",
       "    </tr>\n",
       "  </tbody>\n",
       "</table>\n",
       "</div>"
      ],
      "text/plain": [
       "                                        ID            DateTime  Temperature  \\\n",
       "61229  __export__.temp_log_101144_ff2f0b97 2018-09-12 03:09:00           29   \n",
       "61258  __export__.temp_log_101502_172517d2 2018-09-12 03:09:00           29   \n",
       "61255  __export__.temp_log_104868_a5e526b3 2018-09-12 03:09:00           28   \n",
       "61231  __export__.temp_log_108845_062b2592 2018-09-12 03:09:00           28   \n",
       "61272  __export__.temp_log_112303_fca608f4 2018-09-12 03:09:00           29   \n",
       "61274  __export__.temp_log_112304_3fc1d307 2018-09-12 03:09:00           29   \n",
       "61265  __export__.temp_log_113479_964d64b0 2018-09-12 03:09:00           29   \n",
       "61270  __export__.temp_log_115449_e70330bd 2018-09-12 03:09:00           28   \n",
       "61213  __export__.temp_log_116767_4dc92bc9 2018-09-12 03:09:00           28   \n",
       "61268  __export__.temp_log_119813_6bb044a0 2018-09-12 03:09:00           28   \n",
       "\n",
       "      Place   ID_PK  \n",
       "61229   Out  101144  \n",
       "61258    In  101502  \n",
       "61255    In  104868  \n",
       "61231    In  108845  \n",
       "61272    In  112303  \n",
       "61274   Out  112304  \n",
       "61265    In  113479  \n",
       "61270   Out  115449  \n",
       "61213   Out  116767  \n",
       "61268    In  119813  "
      ]
     },
     "execution_count": 628,
     "metadata": {},
     "output_type": "execute_result"
    }
   ],
   "source": [
    "df.loc[df['DateTime'] == pd.to_datetime('12/9/2018 3:09', format = '%d/%m/%Y %H:%M')].sort_values(by = 'ID_PK').head(10)"
   ]
  },
  {
   "cell_type": "markdown",
   "id": "fd55b9f5-c7d0-410e-97c0-ffe38c93faec",
   "metadata": {},
   "source": [
    "# Check the data type of the ID_PK column"
   ]
  },
  {
   "cell_type": "code",
   "execution_count": 629,
   "id": "be6a4fa3-fb42-4e46-9e54-0fafec2f3ce2",
   "metadata": {},
   "outputs": [
    {
     "name": "stdout",
     "output_type": "stream",
     "text": [
      "object\n"
     ]
    }
   ],
   "source": [
    "print(df['ID_PK'].dtype)"
   ]
  },
  {
   "cell_type": "markdown",
   "id": "1d8422f9-5467-4cb2-9148-c4d06dad527a",
   "metadata": {},
   "source": [
    "# Converting ID_PK column from Object to numeric"
   ]
  },
  {
   "cell_type": "code",
   "execution_count": 630,
   "id": "218c1a7c-1601-4674-8488-aa0662339ff7",
   "metadata": {},
   "outputs": [],
   "source": [
    "df['ID_PK'] = pd.to_numeric(df['ID_PK'], errors='coerce')"
   ]
  },
  {
   "cell_type": "code",
   "execution_count": 631,
   "id": "a516c74a-e0a6-48bd-ab8c-afd78472d440",
   "metadata": {},
   "outputs": [
    {
     "data": {
      "text/plain": [
       "dtype('int64')"
      ]
     },
     "execution_count": 631,
     "metadata": {},
     "output_type": "execute_result"
    }
   ],
   "source": [
    "df['ID_PK'].dtype"
   ]
  },
  {
   "cell_type": "markdown",
   "id": "f0cc06c8-bde4-45b5-bc17-72e456c59566",
   "metadata": {},
   "source": [
    "# Looking at the ID_PK column above, you will notice a wide gap between the IDs. Let's pick a range of values to further analyze the data and uncover patterns."
   ]
  },
  {
   "cell_type": "code",
   "execution_count": 632,
   "id": "49738844-83d0-40e6-b5ab-9083dfd562ae",
   "metadata": {},
   "outputs": [
    {
     "data": {
      "text/html": [
       "<div>\n",
       "<style scoped>\n",
       "    .dataframe tbody tr th:only-of-type {\n",
       "        vertical-align: middle;\n",
       "    }\n",
       "\n",
       "    .dataframe tbody tr th {\n",
       "        vertical-align: top;\n",
       "    }\n",
       "\n",
       "    .dataframe thead th {\n",
       "        text-align: right;\n",
       "    }\n",
       "</style>\n",
       "<table border=\"1\" class=\"dataframe\">\n",
       "  <thead>\n",
       "    <tr style=\"text-align: right;\">\n",
       "      <th></th>\n",
       "      <th>ID</th>\n",
       "      <th>DateTime</th>\n",
       "      <th>Temperature</th>\n",
       "      <th>Place</th>\n",
       "      <th>ID_PK</th>\n",
       "    </tr>\n",
       "  </thead>\n",
       "  <tbody>\n",
       "    <tr>\n",
       "      <th>61229</th>\n",
       "      <td>__export__.temp_log_101144_ff2f0b97</td>\n",
       "      <td>2018-09-12 03:09:00</td>\n",
       "      <td>29</td>\n",
       "      <td>Out</td>\n",
       "      <td>101144</td>\n",
       "    </tr>\n",
       "    <tr>\n",
       "      <th>71980</th>\n",
       "      <td>__export__.temp_log_101146_46d5babe</td>\n",
       "      <td>2018-09-11 10:20:00</td>\n",
       "      <td>35</td>\n",
       "      <td>In</td>\n",
       "      <td>101146</td>\n",
       "    </tr>\n",
       "    <tr>\n",
       "      <th>73063</th>\n",
       "      <td>__export__.temp_log_101150_232b02ab</td>\n",
       "      <td>2018-09-11 07:57:00</td>\n",
       "      <td>33</td>\n",
       "      <td>Out</td>\n",
       "      <td>101150</td>\n",
       "    </tr>\n",
       "    <tr>\n",
       "      <th>70959</th>\n",
       "      <td>__export__.temp_log_101151_c651017f</td>\n",
       "      <td>2018-09-11 12:25:00</td>\n",
       "      <td>35</td>\n",
       "      <td>In</td>\n",
       "      <td>101151</td>\n",
       "    </tr>\n",
       "    <tr>\n",
       "      <th>72459</th>\n",
       "      <td>__export__.temp_log_101152_5edaffe0</td>\n",
       "      <td>2018-09-11 09:20:00</td>\n",
       "      <td>34</td>\n",
       "      <td>Out</td>\n",
       "      <td>101152</td>\n",
       "    </tr>\n",
       "    <tr>\n",
       "      <th>...</th>\n",
       "      <td>...</td>\n",
       "      <td>...</td>\n",
       "      <td>...</td>\n",
       "      <td>...</td>\n",
       "      <td>...</td>\n",
       "    </tr>\n",
       "    <tr>\n",
       "      <th>77892</th>\n",
       "      <td>__export__.temp_log_101492_2a517abc</td>\n",
       "      <td>2018-09-10 14:42:00</td>\n",
       "      <td>31</td>\n",
       "      <td>Out</td>\n",
       "      <td>101492</td>\n",
       "    </tr>\n",
       "    <tr>\n",
       "      <th>58077</th>\n",
       "      <td>__export__.temp_log_101493_bbd2e151</td>\n",
       "      <td>2018-09-12 12:29:00</td>\n",
       "      <td>33</td>\n",
       "      <td>Out</td>\n",
       "      <td>101493</td>\n",
       "    </tr>\n",
       "    <tr>\n",
       "      <th>14848</th>\n",
       "      <td>__export__.temp_log_101495_5eff48bf</td>\n",
       "      <td>2018-11-04 00:00:00</td>\n",
       "      <td>42</td>\n",
       "      <td>Out</td>\n",
       "      <td>101495</td>\n",
       "    </tr>\n",
       "    <tr>\n",
       "      <th>15664</th>\n",
       "      <td>__export__.temp_log_101496_828059fc</td>\n",
       "      <td>2018-11-02 04:01:00</td>\n",
       "      <td>43</td>\n",
       "      <td>Out</td>\n",
       "      <td>101496</td>\n",
       "    </tr>\n",
       "    <tr>\n",
       "      <th>63079</th>\n",
       "      <td>__export__.temp_log_101497_21f7596f</td>\n",
       "      <td>2018-09-12 00:49:00</td>\n",
       "      <td>27</td>\n",
       "      <td>Out</td>\n",
       "      <td>101497</td>\n",
       "    </tr>\n",
       "  </tbody>\n",
       "</table>\n",
       "<p>189 rows × 5 columns</p>\n",
       "</div>"
      ],
      "text/plain": [
       "                                        ID            DateTime  Temperature  \\\n",
       "61229  __export__.temp_log_101144_ff2f0b97 2018-09-12 03:09:00           29   \n",
       "71980  __export__.temp_log_101146_46d5babe 2018-09-11 10:20:00           35   \n",
       "73063  __export__.temp_log_101150_232b02ab 2018-09-11 07:57:00           33   \n",
       "70959  __export__.temp_log_101151_c651017f 2018-09-11 12:25:00           35   \n",
       "72459  __export__.temp_log_101152_5edaffe0 2018-09-11 09:20:00           34   \n",
       "...                                    ...                 ...          ...   \n",
       "77892  __export__.temp_log_101492_2a517abc 2018-09-10 14:42:00           31   \n",
       "58077  __export__.temp_log_101493_bbd2e151 2018-09-12 12:29:00           33   \n",
       "14848  __export__.temp_log_101495_5eff48bf 2018-11-04 00:00:00           42   \n",
       "15664  __export__.temp_log_101496_828059fc 2018-11-02 04:01:00           43   \n",
       "63079  __export__.temp_log_101497_21f7596f 2018-09-12 00:49:00           27   \n",
       "\n",
       "      Place   ID_PK  \n",
       "61229   Out  101144  \n",
       "71980    In  101146  \n",
       "73063   Out  101150  \n",
       "70959    In  101151  \n",
       "72459   Out  101152  \n",
       "...     ...     ...  \n",
       "77892   Out  101492  \n",
       "58077   Out  101493  \n",
       "14848   Out  101495  \n",
       "15664   Out  101496  \n",
       "63079   Out  101497  \n",
       "\n",
       "[189 rows x 5 columns]"
      ]
     },
     "execution_count": 632,
     "metadata": {},
     "output_type": "execute_result"
    }
   ],
   "source": [
    "df.loc[df['ID_PK'].isin(range(101144, 101502))].sort_values(by='ID_PK')"
   ]
  },
  {
   "cell_type": "code",
   "execution_count": 636,
   "id": "c1495830-ce06-47df-a2b8-7f4769100663",
   "metadata": {},
   "outputs": [
    {
     "data": {
      "text/html": [
       "<div>\n",
       "<style scoped>\n",
       "    .dataframe tbody tr th:only-of-type {\n",
       "        vertical-align: middle;\n",
       "    }\n",
       "\n",
       "    .dataframe tbody tr th {\n",
       "        vertical-align: top;\n",
       "    }\n",
       "\n",
       "    .dataframe thead th {\n",
       "        text-align: right;\n",
       "    }\n",
       "</style>\n",
       "<table border=\"1\" class=\"dataframe\">\n",
       "  <thead>\n",
       "    <tr style=\"text-align: right;\">\n",
       "      <th></th>\n",
       "      <th>ID</th>\n",
       "      <th>DateTime</th>\n",
       "      <th>Temperature</th>\n",
       "      <th>Place</th>\n",
       "      <th>ID_PK</th>\n",
       "    </tr>\n",
       "  </thead>\n",
       "  <tbody>\n",
       "    <tr>\n",
       "      <th>77892</th>\n",
       "      <td>__export__.temp_log_101492_2a517abc</td>\n",
       "      <td>2018-09-10 14:42:00</td>\n",
       "      <td>31</td>\n",
       "      <td>Out</td>\n",
       "      <td>101492</td>\n",
       "    </tr>\n",
       "    <tr>\n",
       "      <th>58077</th>\n",
       "      <td>__export__.temp_log_101493_bbd2e151</td>\n",
       "      <td>2018-09-12 12:29:00</td>\n",
       "      <td>33</td>\n",
       "      <td>Out</td>\n",
       "      <td>101493</td>\n",
       "    </tr>\n",
       "  </tbody>\n",
       "</table>\n",
       "</div>"
      ],
      "text/plain": [
       "                                        ID            DateTime  Temperature  \\\n",
       "77892  __export__.temp_log_101492_2a517abc 2018-09-10 14:42:00           31   \n",
       "58077  __export__.temp_log_101493_bbd2e151 2018-09-12 12:29:00           33   \n",
       "\n",
       "      Place   ID_PK  \n",
       "77892   Out  101492  \n",
       "58077   Out  101493  "
      ]
     },
     "execution_count": 636,
     "metadata": {},
     "output_type": "execute_result"
    }
   ],
   "source": [
    "df.loc[df['ID_PK'].isin(range(101492, 101495))].sort_values(by='ID_PK')"
   ]
  },
  {
   "cell_type": "markdown",
   "id": "28cae2be-0610-47fc-a09b-72bbce2f42c3",
   "metadata": {},
   "source": [
    "# Observations:\n",
    "1. There is no record for ID_PK 101145\n",
    "2. The ID_PK value is not serial. for instance, between ID_PK 101150 to 101152, records for ID_PK 101151 were taken at '2018-09-11 12:25:00' instead of at '2018-09-12 12:29:00', assuming ID_PK values are serial.\n",
    "3. Based on the above findings, ID_PK can't be used to sort out our dataset but will remain a unique identifier."
   ]
  },
  {
   "cell_type": "markdown",
   "id": "c02c9312-c2b2-440d-bc25-076bb8c94c18",
   "metadata": {},
   "source": [
    "# Selecting all the records in the ID column and replacing them with all records in the ID_PK column"
   ]
  },
  {
   "cell_type": "code",
   "execution_count": 638,
   "id": "ed47355b-e023-4f05-8e92-f588cd9ac638",
   "metadata": {},
   "outputs": [],
   "source": [
    "df.loc[:, 'ID'] = df.loc[:, 'ID_PK']"
   ]
  },
  {
   "cell_type": "code",
   "execution_count": 640,
   "id": "538cc4f2-bf9f-4e2a-af77-c300891f32e8",
   "metadata": {},
   "outputs": [
    {
     "data": {
      "text/html": [
       "<div>\n",
       "<style scoped>\n",
       "    .dataframe tbody tr th:only-of-type {\n",
       "        vertical-align: middle;\n",
       "    }\n",
       "\n",
       "    .dataframe tbody tr th {\n",
       "        vertical-align: top;\n",
       "    }\n",
       "\n",
       "    .dataframe thead th {\n",
       "        text-align: right;\n",
       "    }\n",
       "</style>\n",
       "<table border=\"1\" class=\"dataframe\">\n",
       "  <thead>\n",
       "    <tr style=\"text-align: right;\">\n",
       "      <th></th>\n",
       "      <th>ID</th>\n",
       "      <th>DateTime</th>\n",
       "      <th>Temperature</th>\n",
       "      <th>Place</th>\n",
       "      <th>ID_PK</th>\n",
       "    </tr>\n",
       "  </thead>\n",
       "  <tbody>\n",
       "    <tr>\n",
       "      <th>0</th>\n",
       "      <td>196134</td>\n",
       "      <td>2018-12-08 09:30:00</td>\n",
       "      <td>29</td>\n",
       "      <td>In</td>\n",
       "      <td>196134</td>\n",
       "    </tr>\n",
       "    <tr>\n",
       "      <th>1</th>\n",
       "      <td>196131</td>\n",
       "      <td>2018-12-08 09:30:00</td>\n",
       "      <td>29</td>\n",
       "      <td>In</td>\n",
       "      <td>196131</td>\n",
       "    </tr>\n",
       "    <tr>\n",
       "      <th>2</th>\n",
       "      <td>196127</td>\n",
       "      <td>2018-12-08 09:29:00</td>\n",
       "      <td>41</td>\n",
       "      <td>Out</td>\n",
       "      <td>196127</td>\n",
       "    </tr>\n",
       "    <tr>\n",
       "      <th>3</th>\n",
       "      <td>196128</td>\n",
       "      <td>2018-12-08 09:29:00</td>\n",
       "      <td>41</td>\n",
       "      <td>Out</td>\n",
       "      <td>196128</td>\n",
       "    </tr>\n",
       "    <tr>\n",
       "      <th>4</th>\n",
       "      <td>196126</td>\n",
       "      <td>2018-12-08 09:29:00</td>\n",
       "      <td>31</td>\n",
       "      <td>In</td>\n",
       "      <td>196126</td>\n",
       "    </tr>\n",
       "  </tbody>\n",
       "</table>\n",
       "</div>"
      ],
      "text/plain": [
       "       ID            DateTime  Temperature Place   ID_PK\n",
       "0  196134 2018-12-08 09:30:00           29    In  196134\n",
       "1  196131 2018-12-08 09:30:00           29    In  196131\n",
       "2  196127 2018-12-08 09:29:00           41   Out  196127\n",
       "3  196128 2018-12-08 09:29:00           41   Out  196128\n",
       "4  196126 2018-12-08 09:29:00           31    In  196126"
      ]
     },
     "execution_count": 640,
     "metadata": {},
     "output_type": "execute_result"
    }
   ],
   "source": [
    "df.head()"
   ]
  },
  {
   "cell_type": "markdown",
   "id": "3950fdea-8d35-486e-b41f-fe2bd18ce58c",
   "metadata": {},
   "source": [
    "# Since I have successfully established a PK for the Dataset, and replaced it with the previous record of the ID column, I will have to drop the ID_PK column"
   ]
  },
  {
   "cell_type": "code",
   "execution_count": 642,
   "id": "671c82f8-b969-40ee-b4bf-9297df5831d3",
   "metadata": {},
   "outputs": [],
   "source": [
    "df.drop(columns = 'ID_PK', inplace = True)"
   ]
  },
  {
   "cell_type": "code",
   "execution_count": 643,
   "id": "931f3445-6552-4faa-9925-7b92252ddf31",
   "metadata": {},
   "outputs": [
    {
     "data": {
      "text/html": [
       "<div>\n",
       "<style scoped>\n",
       "    .dataframe tbody tr th:only-of-type {\n",
       "        vertical-align: middle;\n",
       "    }\n",
       "\n",
       "    .dataframe tbody tr th {\n",
       "        vertical-align: top;\n",
       "    }\n",
       "\n",
       "    .dataframe thead th {\n",
       "        text-align: right;\n",
       "    }\n",
       "</style>\n",
       "<table border=\"1\" class=\"dataframe\">\n",
       "  <thead>\n",
       "    <tr style=\"text-align: right;\">\n",
       "      <th></th>\n",
       "      <th>ID</th>\n",
       "      <th>DateTime</th>\n",
       "      <th>Temperature</th>\n",
       "      <th>Place</th>\n",
       "    </tr>\n",
       "  </thead>\n",
       "  <tbody>\n",
       "    <tr>\n",
       "      <th>0</th>\n",
       "      <td>196134</td>\n",
       "      <td>2018-12-08 09:30:00</td>\n",
       "      <td>29</td>\n",
       "      <td>In</td>\n",
       "    </tr>\n",
       "    <tr>\n",
       "      <th>1</th>\n",
       "      <td>196131</td>\n",
       "      <td>2018-12-08 09:30:00</td>\n",
       "      <td>29</td>\n",
       "      <td>In</td>\n",
       "    </tr>\n",
       "    <tr>\n",
       "      <th>2</th>\n",
       "      <td>196127</td>\n",
       "      <td>2018-12-08 09:29:00</td>\n",
       "      <td>41</td>\n",
       "      <td>Out</td>\n",
       "    </tr>\n",
       "    <tr>\n",
       "      <th>3</th>\n",
       "      <td>196128</td>\n",
       "      <td>2018-12-08 09:29:00</td>\n",
       "      <td>41</td>\n",
       "      <td>Out</td>\n",
       "    </tr>\n",
       "    <tr>\n",
       "      <th>4</th>\n",
       "      <td>196126</td>\n",
       "      <td>2018-12-08 09:29:00</td>\n",
       "      <td>31</td>\n",
       "      <td>In</td>\n",
       "    </tr>\n",
       "  </tbody>\n",
       "</table>\n",
       "</div>"
      ],
      "text/plain": [
       "       ID            DateTime  Temperature Place\n",
       "0  196134 2018-12-08 09:30:00           29    In\n",
       "1  196131 2018-12-08 09:30:00           29    In\n",
       "2  196127 2018-12-08 09:29:00           41   Out\n",
       "3  196128 2018-12-08 09:29:00           41   Out\n",
       "4  196126 2018-12-08 09:29:00           31    In"
      ]
     },
     "execution_count": 643,
     "metadata": {},
     "output_type": "execute_result"
    }
   ],
   "source": [
    "df.head()"
   ]
  },
  {
   "cell_type": "code",
   "execution_count": 644,
   "id": "a1244f5a-2692-454b-b01c-41d2810d4495",
   "metadata": {},
   "outputs": [],
   "source": [
    "df.to_csv('IOT-temp_cleanup_pandas.csv')"
   ]
  },
  {
   "cell_type": "code",
   "execution_count": null,
   "id": "e66a04fe-195b-46e0-969a-d479ea5ee4c9",
   "metadata": {},
   "outputs": [],
   "source": []
  }
 ],
 "metadata": {
  "kernelspec": {
   "display_name": "Python 3 (ipykernel)",
   "language": "python",
   "name": "python3"
  },
  "language_info": {
   "codemirror_mode": {
    "name": "ipython",
    "version": 3
   },
   "file_extension": ".py",
   "mimetype": "text/x-python",
   "name": "python",
   "nbconvert_exporter": "python",
   "pygments_lexer": "ipython3",
   "version": "3.12.4"
  }
 },
 "nbformat": 4,
 "nbformat_minor": 5
}
